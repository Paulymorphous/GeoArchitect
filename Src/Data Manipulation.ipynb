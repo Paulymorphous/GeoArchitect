{
 "cells": [
  {
   "cell_type": "markdown",
   "metadata": {},
   "source": [
    "## Importing libraries."
   ]
  },
  {
   "cell_type": "code",
   "execution_count": 76,
   "metadata": {},
   "outputs": [],
   "source": [
    "import numpy as np\n",
    "import pickle\n",
    "import cv2\n",
    "from tqdm import tqdm_notebook\n",
    "import os\n",
    "import json\n",
    "import math\n",
    "\n",
    "from matplotlib.pyplot import imshow\n",
    "from matplotlib import pyplot as plt\n",
    "%matplotlib inline"
   ]
  },
  {
   "cell_type": "code",
   "execution_count": 68,
   "metadata": {},
   "outputs": [],
   "source": [
    "img_width = img_height = 512\n",
    "num_channels = 3\n",
    "root_path = \"../Data/Roads/\"\n",
    "mode = 'train'"
   ]
  },
  {
   "cell_type": "code",
   "execution_count": 30,
   "metadata": {},
   "outputs": [],
   "source": [
    "files = next(os.walk(root_path+mode+'/sat/'))[2]"
   ]
  },
  {
   "cell_type": "code",
   "execution_count": 36,
   "metadata": {},
   "outputs": [],
   "source": [
    "all_masks = []\n",
    "all_images = []"
   ]
  },
  {
   "cell_type": "markdown",
   "metadata": {},
   "source": [
    "## Loading images and extracting masks."
   ]
  },
  {
   "cell_type": "code",
   "execution_count": 55,
   "metadata": {
    "scrolled": true
   },
   "outputs": [],
   "source": [
    "def images_to_pickle():\n",
    "    all_masks = []\n",
    "    all_images = []\n",
    " \n",
    "\n",
    "    for image_file in tqdm_notebook(files, total = len(files)):\n",
    "    \n",
    "        image_path = root_path+mode+'/sat/'+image_file\n",
    "        image = cv2.imread(image_path)\n",
    "        image = cv2.resize(image, (img_height, img_width), interpolation = cv2.INTER_AREA)\n",
    "        #image = np.stack((image,)*1, axis=-1)\n",
    "        all_images.append(image/255)\n",
    "   \n",
    "    \n",
    "    \n",
    "        mask_path = root_path+mode+'/map/'+image_file[:-1]\n",
    "        mask = cv2.imread(mask_path, 0)\n",
    "        mask = cv2.resize(mask, (img_height, img_width), interpolation = cv2.INTER_AREA)\n",
    "        #mask  = np.stack((mask,)*1, axis=-1)\n",
    "        all_masks.append(mask/255)\n",
    "        \n",
    "       \n",
    "        break\n",
    "    \n",
    "    \n",
    "    all_images = np.asarray(all_images)\n",
    "    all_masks = np.asarray(all_masks)\n",
    "    \n",
    "    print(\"Shape of Train Images =\", all_images.shape)\n",
    "    print(\"Shape of Train Labels =\", all_masks.shape)\n",
    "    \n",
    "       \n",
    "    \n",
    "    return(all_images, all_masks)"
   ]
  },
  {
   "cell_type": "code",
   "execution_count": null,
   "metadata": {},
   "outputs": [],
   "source": [
    "def split_to_pickle():\n",
    "    all_masks = []\n",
    "    all_images = []\n",
    "    \n",
    "    for image_file in tqdm_notebook(files, total = len(files)):\n",
    "        image_path = root_path+mode+'/sat/'+image_file\n",
    "        image = cv2.imread(image_path)\n",
    "        num_splits = math.floor((image.shape[0]*image.shape[1])/(img_width*img_height))\n",
    "        \n",
    "        for r in range(0, image.shape[0], num_splits):\n",
    "            for c in range(0, image.shape[1], num_splits):\n",
    "                all_images.append(np.array(image[r:r+30, c:c+30,:]/255))\n",
    "        break\n",
    "    \n",
    "    all_images = np.asarray(all_images)\n",
    "    all_masks = np.asarray(all_masks)\n",
    "    \n",
    "    print(\"Shape of Train Images =\", all_images.shape)\n",
    "    print(\"Shape of Train Labels =\", all_masks.shape)\n",
    "    \n",
    "       \n",
    "    \n",
    "    return(all_images, all_masks)\n",
    "        \n",
    "    "
   ]
  },
  {
   "cell_type": "code",
   "execution_count": null,
   "metadata": {},
   "outputs": [],
   "source": [
    "images, masks = split_to_pickle()"
   ]
  },
  {
   "cell_type": "code",
   "execution_count": 81,
   "metadata": {},
   "outputs": [
    {
     "data": {
      "text/plain": [
       "(759, 256, 256, 3)"
      ]
     },
     "execution_count": 81,
     "metadata": {},
     "output_type": "execute_result"
    }
   ],
   "source": []
  },
  {
   "cell_type": "markdown",
   "metadata": {},
   "source": [
    "## Exporting masks and Images."
   ]
  },
  {
   "cell_type": "code",
   "execution_count": 35,
   "metadata": {},
   "outputs": [
    {
     "name": "stdout",
     "output_type": "stream",
     "text": [
      "Data has been successfully exported.\n"
     ]
    }
   ],
   "source": [
    "with open('../Data/Roads/Pickled_Images/256_'+mode+'_images.pickle', 'wb') as outfile:\n",
    "    pickle.dump(all_images, outfile)\n",
    "    \n",
    "with open('../Data/Roads/Pickled_Images/256_'+mode+'_masks.pickle', 'wb') as outfile:\n",
    "    pickle.dump(all_masks, outfile)\n",
    "    \n",
    "print(\"Data has been successfully exported.\")"
   ]
  }
 ],
 "metadata": {
  "kernelspec": {
   "display_name": "Python 3",
   "language": "python",
   "name": "python3"
  },
  "language_info": {
   "codemirror_mode": {
    "name": "ipython",
    "version": 3
   },
   "file_extension": ".py",
   "mimetype": "text/x-python",
   "name": "python",
   "nbconvert_exporter": "python",
   "pygments_lexer": "ipython3",
   "version": "3.6.5"
  }
 },
 "nbformat": 4,
 "nbformat_minor": 2
}
