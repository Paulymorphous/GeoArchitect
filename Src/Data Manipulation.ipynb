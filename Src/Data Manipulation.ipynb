{
 "cells": [
  {
   "cell_type": "markdown",
   "metadata": {},
   "source": [
    "## Importing libraries."
   ]
  },
  {
   "cell_type": "code",
   "execution_count": 5,
   "metadata": {},
   "outputs": [],
   "source": [
    "import numpy as np\n",
    "import pickle\n",
    "import cv2\n",
    "from tqdm import tqdm_notebook\n",
    "import os\n",
    "import json\n",
    "\n",
    "from matplotlib.pyplot import imshow\n",
    "from matplotlib import pyplot as plt\n",
    "%matplotlib inline"
   ]
  },
  {
   "cell_type": "code",
   "execution_count": 44,
   "metadata": {},
   "outputs": [],
   "source": [
    "img_width = img_height = 256\n",
    "num_channels = 3\n",
    "root_path = \"../Data/Roads/\"\n",
    "mode = 'test'"
   ]
  },
  {
   "cell_type": "code",
   "execution_count": 45,
   "metadata": {},
   "outputs": [],
   "source": [
    "files = next(os.walk(root_path+mode+'/sat/'))[2]"
   ]
  },
  {
   "cell_type": "markdown",
   "metadata": {},
   "source": [
    "## Loading images and extracting masks."
   ]
  },
  {
   "cell_type": "code",
   "execution_count": 46,
   "metadata": {},
   "outputs": [
    {
     "data": {
      "application/vnd.jupyter.widget-view+json": {
       "model_id": "2c52f18a539f45788920d8620e263d9b",
       "version_major": 2,
       "version_minor": 0
      },
      "text/plain": [
       "HBox(children=(IntProgress(value=0, max=49), HTML(value='')))"
      ]
     },
     "metadata": {},
     "output_type": "display_data"
    },
    {
     "name": "stdout",
     "output_type": "stream",
     "text": [
      "\n",
      "Shape of Train Images = (49, 256, 256, 3)\n",
      "Shape of Train Labels = (49, 256, 256, 3)\n"
     ]
    }
   ],
   "source": [
    "all_masks = []\n",
    "all_images = []\n",
    " \n",
    "\n",
    "for image_file in tqdm_notebook(files, total = len(files)):\n",
    "    \n",
    "    image_path = root_path+mode+'/sat/'+image_file\n",
    "    image = cv2.imread(image_path)\n",
    "    image = cv2.cvtColor(image, cv2.COLOR_BGR2RGB)\n",
    "    image = cv2.resize(image, (img_height, img_width), interpolation = cv2.INTER_AREA)\n",
    "    all_images.append(image)\n",
    "\n",
    "    \n",
    "    \n",
    "    mask_path = root_path+mode+'/map/'+image_file[:-1]\n",
    "    mask = cv2.imread(mask_path)\n",
    "    #mask = cv2.cvtColor(mask, cv2.COLOR_BGR2RGB)\n",
    "    mask = cv2.resize(mask, (img_height, img_width), interpolation = cv2.INTER_AREA)\n",
    "    all_masks.append(mask)\n",
    "    \n",
    "    \n",
    "        \n",
    "    \n",
    "all_images = np.asarray(all_images)\n",
    "all_masks = np.asarray(all_masks)\n",
    "\n",
    "print(\"Shape of Train Images =\", all_images.shape)\n",
    "print(\"Shape of Train Labels =\", all_masks.shape)\n"
   ]
  },
  {
   "cell_type": "markdown",
   "metadata": {},
   "source": [
    "## Exporting masks and Images."
   ]
  },
  {
   "cell_type": "code",
   "execution_count": 47,
   "metadata": {},
   "outputs": [
    {
     "name": "stdout",
     "output_type": "stream",
     "text": [
      "Data has been successfully exported.\n"
     ]
    }
   ],
   "source": [
    "with open('../Data/Roads/Pickled_Images/'+mode+'_images.pickle', 'wb') as outfile:\n",
    "    pickle.dump(all_images, outfile)\n",
    "    \n",
    "with open('../Data/Roads/Pickled_Images/'+mode+'_masks.pickle', 'wb') as outfile:\n",
    "    pickle.dump(all_masks, outfile)\n",
    "    \n",
    "print(\"Data has been successfully exported.\")"
   ]
  }
 ],
 "metadata": {
  "kernelspec": {
   "display_name": "Python 3",
   "language": "python",
   "name": "python3"
  },
  "language_info": {
   "codemirror_mode": {
    "name": "ipython",
    "version": 3
   },
   "file_extension": ".py",
   "mimetype": "text/x-python",
   "name": "python",
   "nbconvert_exporter": "python",
   "pygments_lexer": "ipython3",
   "version": "3.6.5"
  }
 },
 "nbformat": 4,
 "nbformat_minor": 2
}
